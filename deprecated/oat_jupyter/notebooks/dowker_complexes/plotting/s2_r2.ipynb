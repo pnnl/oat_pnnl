{
 "cells": [
  {
   "attachments": {},
   "cell_type": "markdown",
   "metadata": {},
   "source": [
    "# Homology of a Dowker complex\n",
    "\n",
    "In this example we will\n",
    "- generate a point cloud\n",
    "- generate a collection of subsets (some would call this a *cover*, others would call it a *hypergraph*)\n",
    "- compute the homology of the associated Dowker complex\n",
    "- analyze cycle representatives\n",
    "- plot cycle representatives"
   ]
  },
  {
   "cell_type": "code",
   "execution_count": null,
   "metadata": {},
   "outputs": [],
   "source": [
    "import oat_python as oat\n",
    "\n",
    "import plotly.graph_objects as go\n",
    "import plotly.express as px\n",
    "import numpy as np\n",
    "import sklearn\n",
    "import sklearn.metrics"
   ]
  },
  {
   "attachments": {},
   "cell_type": "markdown",
   "metadata": {},
   "source": [
    "## Generate a point cloud"
   ]
  },
  {
   "cell_type": "code",
   "execution_count": null,
   "metadata": {},
   "outputs": [],
   "source": [
    "#   SET PARAMETER VALUES\n",
    "npoints             =   25\n",
    "maxdis              =   None\n",
    "maxdim              =   1\n",
    "\n",
    "#   GENERATE CLOUD FROM RANDOM SEED\n",
    "cloud               =   oat.point_cloud.slice_of_sphere(npoints=npoints, random_seed=0)\n",
    "\n",
    "#   PLOT\n",
    "trace               =   go.Scatter(x=cloud[:,0],y=cloud[:,1], mode=\"markers\")\n",
    "fig                 =   go.Figure([trace])\n",
    "fig.update_layout( title=dict(text=\"Circle with noise\"), width=800, height=800 )\n",
    "fig.show()"
   ]
  },
  {
   "attachments": {},
   "cell_type": "markdown",
   "metadata": {},
   "source": [
    "## Choose a cover\n",
    "\n",
    "We'll construct a cover by generating an epsilon net of the point cloud.  The cover will then consist of all radius-x neighbors of points in the net."
   ]
  },
  {
   "cell_type": "code",
   "execution_count": null,
   "metadata": {},
   "outputs": [],
   "source": [
    "###### THIS IS OLDER CODE; SEE BELOW FOR NEWER CODE; NEITHER GENERATES A DOWKER COMPLEX WITH THE HOMOLOGY SHOWN AT THE BOTTOM, HAVE TO GO BACK AND FIND THE PARAMETERS\n",
    "\n",
    "\n",
    "dismat = sklearn.metrics.pairwise_distances(cloud)\n",
    "dismat = (dismat + dismat.T)/2\n",
    "\n",
    "#   COMPUTE A COVER\n",
    "\n",
    "radius_neighbor = 1; # hyperedges will be neighborhoods of vertices, with this radius\n",
    "radius_net = 0.5; # we'll make epsilon net with this value of epsilon\n",
    "\n",
    "neighbors   = sklearn.neighbors.radius_neighbors_graph(cloud, radius=radius_neighbor, mode=\"connectivity\", include_self=True)\n",
    "neighbors = [ list(x.indices) for x in neighbors ]\n",
    "for neighborhood in neighbors:\n",
    "    neighborhood.sort()\n",
    "\n",
    "\n",
    "perm, discurve      =   oat.dissimilarity.farthest_point( dismat, radius_net ) # compute an epsilon net\n",
    "dowker_simplices    =   [ neighbors[x] for x in perm ]\n",
    "\n",
    "#   PLOT THE COVER\n",
    "\n",
    "trace = go.Scatter(x=cloud[:,0],y=cloud[:,1], mode=\"markers\")\n",
    "fig = go.Figure(data=trace)\n",
    "\n",
    "for v in perm:\n",
    "    point = cloud[v]\n",
    "    fig.add_shape(type=\"circle\",\n",
    "        xref=\"x\", yref=\"y\",\n",
    "        fillcolor=\"PaleTurquoise\",\n",
    "        x0=point[0]-radius_neighbor, \n",
    "        y0=point[1]-radius_neighbor, \n",
    "        x1=point[0]+radius_neighbor, \n",
    "        y1=point[1]+radius_neighbor,\n",
    "        line_color=\"LightSeaGreen\",\n",
    "        opacity=0.2,\n",
    "    )    \n",
    "\n",
    "fig.update_layout( title=dict(text=\"Hyperedges\"), width=800, height=800 )\n",
    "fig.show()"
   ]
  },
  {
   "cell_type": "code",
   "execution_count": null,
   "metadata": {},
   "outputs": [],
   "source": [
    "#   COMPUTE A COVER\n",
    "\n",
    "radius_neighbor     =   0.75\n",
    "radius_net          =   0.5\n",
    "\n",
    "# compute an epsilon net using farthest point sampling\n",
    "net, _              =   oat.dissimilarity.farthest_point_with_cloud( \n",
    "                            cloud       =   cloud, \n",
    "                            epsilon     =   radius_net,\n",
    "                        ) \n",
    "\n",
    "# cover elements / hyperedges will be neighborhoods of points in the net, with radius 1\n",
    "\n",
    "neigh = sklearn.neighbors.NearestNeighbors()\n",
    "neigh.fit(cloud)\n",
    "\n",
    "dowker_simplices    =   [ sorted(list(x)) for x in neigh.radius_neighbors(cloud[net])[1] ]"
   ]
  },
  {
   "attachments": {},
   "cell_type": "markdown",
   "metadata": {},
   "source": [
    "Plot the hyperedges:"
   ]
  },
  {
   "cell_type": "code",
   "execution_count": null,
   "metadata": {},
   "outputs": [],
   "source": [
    "trace = go.Scatter(x=cloud[:,0],y=cloud[:,1], mode=\"markers\")\n",
    "fig = go.Figure(data=trace)\n",
    "\n",
    "for v in net:\n",
    "    point = cloud[v]\n",
    "    fig.add_shape(type=\"circle\",\n",
    "        xref=\"x\", yref=\"y\",\n",
    "        fillcolor=\"PaleTurquoise\",\n",
    "        x0=point[0]-radius_neighbor, \n",
    "        y0=point[1]-radius_neighbor, \n",
    "        x1=point[0]+radius_neighbor, \n",
    "        y1=point[1]+radius_neighbor,\n",
    "        line_color=\"LightSeaGreen\",\n",
    "        opacity=0.2,\n",
    "    )    \n",
    "\n",
    "fig.update_layout( title=dict(text=\"Hyperedges\"), width=800, height=800 )\n",
    "fig.show()"
   ]
  },
  {
   "attachments": {},
   "cell_type": "markdown",
   "metadata": {},
   "source": [
    "## Compute homology\n",
    "\n",
    "We'll compute the homology of\n",
    "- the dual hypergraph; that is, the hypergraph where vertices are balls, and for each vertex `v` we have a hyperedge that contains every ball to which `v` belongs\n",
    "- equivalently, the witness complex where every point is a witness and net points are landmarks\n",
    "\n",
    "The homology solver only accepts hypergraphs represented by a list of lists of integers, currently.  If your hypergraph has a different format (e.g., if vertices are strings), then you can use some built-in tools to help translate back and forth between this format and list-of-list format; see the `rbs_reduced` notebook for examples."
   ]
  },
  {
   "cell_type": "code",
   "execution_count": null,
   "metadata": {},
   "outputs": [],
   "source": [
    "#   FACTOR THE BOUNDARY MATRIX\n",
    "\n",
    "factored    =   oat.rust.FactoredBoundaryMatrixDowker( \n",
    "                    dowker_simplices            =   dowker_simplices, \n",
    "                    max_homology_dimension      =   2\n",
    "                )\n",
    "\n",
    "#   BETTI STATISTICS\n",
    "\n",
    "print(\"\\n\\nBetti statistics\\n\")\n",
    "display( factored.betti() )\n",
    "\n",
    "#   HOMOLOGY\n",
    "\n",
    "print(\"\\nHomology\\n\")\n",
    "homology    =   factored.homology()\n",
    "display( homology )\n",
    "\n",
    "#   CYCLE REPRESENTATIVE\n",
    "\n",
    "print(\"\\nCycle representative\\n\")\n",
    "display( homology[\"cycle representative\"][1] )\n"
   ]
  },
  {
   "attachments": {},
   "cell_type": "markdown",
   "metadata": {},
   "source": [
    "## Plot a cycle"
   ]
  },
  {
   "cell_type": "code",
   "execution_count": null,
   "metadata": {},
   "outputs": [],
   "source": [
    "#   DATA FOR THE POINT CLOUD\n",
    "\n",
    "data_cloud         = [ go.Scatter(x=cloud[:,0], y=cloud[:,1], mode=\"markers\", name=\"Point cloud\") ]\n",
    "\n",
    "#   DATA FOR THE CYCLE\n",
    "\n",
    "data_cycle = []\n",
    "coo = cloud # coo stands for \"coordinate oracle\"\n",
    "triangles = homology[\"cycle representative\"][3][\"simplex\"].tolist() # list the triangles in the cycle\n",
    "for count, triangle in enumerate(triangles):\n",
    "    trace = oat.plot.triangle__trace2d( triangle, coo=coo ) # make the trace for each simplex\n",
    "    trace.update(name=f\"simplex {triangle}\", text=f\"simplex {triangle}\", opacity=0.7) # customize\n",
    "    data_cycle.append(trace) # append to the data group\n",
    "\n",
    "#   PLOT\n",
    "\n",
    "fig = go.Figure( data_cloud + data_cycle )\n",
    "fig.update_layout(title=\"Toggle the legend entries to hide/reveal individual simplices!\", height=700,width=800, template=\"plotly_white\") \n",
    "fig.show()"
   ]
  },
  {
   "attachments": {},
   "cell_type": "markdown",
   "metadata": {},
   "source": [
    "# Group simplices into a single legend entry\n",
    "\n",
    "Sometimes you don't want a separate legend entry for each simplex.  Here's an example that shows how to group them."
   ]
  },
  {
   "cell_type": "code",
   "execution_count": null,
   "metadata": {},
   "outputs": [],
   "source": [
    "triangles = homology[\"cycle representative\"][3][\"simplex\"].tolist()\n",
    "coo = cloud\n",
    "\n",
    "#   point cloud\n",
    "colors = [ np.arctan( v[1]/v[0] ) for v in cloud ]\n",
    "# data_cloud         = [ go.Scatter(x=cloud[:,0], y=cloud[:,1], mode=\"markers\", name=\"Point cloud\", marker=dict(size= 7, color=colors, colorscale=\"Rainbow\", line=dict(color=\"white\", width=0.5) )) ]\n",
    "data_cloud         = [ go.Scatter(x=cloud[:,0], y=cloud[:,1], mode=\"markers\", name=\"Point cloud\", marker=dict(size= 7, color=colors, colorscale=\"Rainbow\", symbol=\"circle-open\", line=dict( width=2) )) ]\n",
    "\n",
    "#   the cycle\n",
    "data_cycle = []\n",
    "for count, triangle in enumerate(triangles):\n",
    "    trace = oat.plot.triangle__trace2d( triangle, coo=coo ) # make the trace for each simplex\n",
    "    trace.update( legendgroup=\"my_legend_group\", name=\"cycle\", text=f\"simplex {triangle}\", showlegend=(count==0), fillcolor=\"black\", opacity=0.5) # customize\n",
    "    data_cycle.append(trace) # append to the data group\n",
    "\n",
    "fig = go.Figure( data_cloud + data_cycle )\n",
    "fig.update_layout(title=\"Toggle all the simplices on and off, simultaneously, by clicking on `cycle`\", height=700, width=750, template=\"plotly_dark\") \n",
    "fig.show()"
   ]
  },
  {
   "attachments": {},
   "cell_type": "markdown",
   "metadata": {},
   "source": [
    "# Customize color patterns\n",
    "\n",
    "and a custom sequence of symbols for [markers](https://plotly.com/python/marker-style/)."
   ]
  },
  {
   "cell_type": "code",
   "execution_count": null,
   "metadata": {},
   "outputs": [],
   "source": [
    "colors = px.colors.qualitative.Bold\n",
    "print(colors)"
   ]
  },
  {
   "cell_type": "code",
   "execution_count": null,
   "metadata": {},
   "outputs": [],
   "source": [
    "triangles = homology[\"cycle representative\"][3][\"simplex\"].tolist()\n",
    "coo = cloud\n",
    "\n",
    "#   point cloud\n",
    "data_cloud         = [ go.Scatter( name=\"Point cloud\", x=cloud[:,0], y=cloud[:,1], mode=\"markers+text\", marker=dict(color=\"seagreen\"), \n",
    "                        text=[str(p) for p in range(cloud.shape[0])],\n",
    "                        textposition='top center', \n",
    "                        textfont=dict(color=\"seagreen\", size=15)) ]\n",
    "\n",
    "#   the cycle\n",
    "data_cycle = []\n",
    "for count, triangle in enumerate(triangles):\n",
    "    color = colors[ count % len(colors) ] # choose another col\n",
    "    trace = oat.plot.triangle__trace2d( triangle, coo=coo ) # make the trace for each simplex\n",
    "    trace.update( name=\"cycle\", legendgroup=\"1\", showlegend=(count==0), text=f\"simplex {triangle}\", fillcolor=color, line=dict(color=\"white\"), opacity=0.5) # customize\n",
    "    data_cycle.append(trace) # append to the data group\n",
    "\n",
    "fig = go.Figure( data_cloud + data_cycle )\n",
    "fig.update_layout(title=\"Text color is sea green\", height=700, width=750, template=\"ggplot2\") \n",
    "fig.show()"
   ]
  }
 ],
 "metadata": {
  "kernelspec": {
   "display_name": "oat_oct_23_final_final_test",
   "language": "python",
   "name": "python3"
  },
  "language_info": {
   "codemirror_mode": {
    "name": "ipython",
    "version": 3
   },
   "file_extension": ".py",
   "mimetype": "text/x-python",
   "name": "python",
   "nbconvert_exporter": "python",
   "pygments_lexer": "ipython3",
   "version": "3.11.6"
  }
 },
 "nbformat": 4,
 "nbformat_minor": 2
}
