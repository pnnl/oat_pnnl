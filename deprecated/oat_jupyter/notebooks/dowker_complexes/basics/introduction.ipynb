{
 "cells": [
  {
   "attachments": {},
   "cell_type": "markdown",
   "metadata": {},
   "source": [
    "# Homology of a Dowker complex\n",
    "\n",
    "In this example we\n",
    "\n",
    "- compute the homology of a Dowker complex\n",
    "- print summary statistics (betti numbers, dimensions of cycle and boundary spaces)\n",
    "- plot 1d and 2d cycle representatives\n",
    "\n",
    "for two examples: a **circle** represented as the suspension of two points, and a **sphere** represented by the suspension of the circle"
   ]
  },
  {
   "cell_type": "code",
   "execution_count": null,
   "metadata": {},
   "outputs": [],
   "source": [
    "import oat_python as oat\n",
    "import plotly.graph_objects as go"
   ]
  },
  {
   "attachments": {},
   "cell_type": "markdown",
   "metadata": {},
   "source": [
    "# Circle"
   ]
  },
  {
   "attachments": {},
   "cell_type": "markdown",
   "metadata": {},
   "source": [
    "### Define the circle\n",
    "\n",
    "As a cycle graph with four edges"
   ]
  },
  {
   "cell_type": "code",
   "execution_count": null,
   "metadata": {},
   "outputs": [],
   "source": [
    "circle                  =   [ [0,1], [1,2], [2,3], [0,3] ]"
   ]
  },
  {
   "attachments": {},
   "cell_type": "markdown",
   "metadata": {},
   "source": [
    "### Compute homology\n",
    "\n",
    "By factoring the boundary matrix of the Dowker complex."
   ]
  },
  {
   "cell_type": "code",
   "execution_count": null,
   "metadata": {},
   "outputs": [],
   "source": [
    "factored                =   oat.rust.FactoredBoundaryMatrixDowker( dowker_simplices = circle, max_homology_dimension =2  )"
   ]
  },
  {
   "attachments": {},
   "cell_type": "markdown",
   "metadata": {},
   "source": [
    "### Display the results"
   ]
  },
  {
   "cell_type": "code",
   "execution_count": null,
   "metadata": {},
   "outputs": [],
   "source": [
    "homology    =   factored.homology()\n",
    "\n",
    "print( \"\\n===================================================================================\")\n",
    "print(    \"Cycle representatives that represent a basis for homology in dimensions 0, 1, and 2\")\n",
    "print(    \"===================================================================================\")\n",
    "display( homology )\n",
    "print(  \"\\n===============================\")\n",
    "print(    \"Individual cycle representative\")\n",
    "print(    \"===============================\")\n",
    "homology[\"cycle representative\"][1]"
   ]
  },
  {
   "attachments": {},
   "cell_type": "markdown",
   "metadata": {},
   "source": [
    "### Plot a cycle representative with MDS\n",
    "\n",
    "MDS stands for \"Multidimensional scaling.\""
   ]
  },
  {
   "cell_type": "code",
   "execution_count": null,
   "metadata": {},
   "outputs": [],
   "source": [
    "\n",
    "#   EXTRACT A LIST OF TRIANGLE WHERE THE CYCLE TAKES NONZERO COEFFICIENTS\n",
    "#   ---------------------------------------------------------------------\n",
    "\n",
    "cycle           =   homology[\"cycle representative\"][1]\n",
    "edges           =   cycle[\"simplex\"].tolist()\n",
    "\n",
    "#   GENERATE MDS COORDINATES FOR EACH VERTEX, BASED ON \"HOP DISTANCE\" WITHIN\n",
    "#   THE GRAPH COMPOSED OF EDGES THAT ARE INCIDENT TO TRIANGLES IN THE CYCLE\n",
    "#   ------------------------------------------------------------------------\n",
    "\n",
    "coo             =   oat.plot.hop_mds_from_simplices( edges ) # coo stands for \"coordinate oracle\"\n",
    "x               =   [pt[0] for pt in coo.values()]\n",
    "y               =   [pt[1] for pt in coo.values()]\n",
    "z               =   [pt[2] for pt in coo.values()]\n",
    "\n",
    "#   GENERATE A TRACE FOR THE POINT CLOUD\n",
    "#   ------------------------------------\n",
    "\n",
    "data            =   []\n",
    "trace           =   go.Scatter3d(\n",
    "                        x=x,y=y,z=z,  # x, y, z coordinates\n",
    "                        mode=\"markers+text\", # indicates we want some text to appear next to each marker\n",
    "                        text=[f\"Node {p}\" for p in range( len(x) )], # the text we want to appear next to each point\n",
    "                        textposition=\"top center\", # where we want the text positioned, relative to the marker\n",
    "                        name=\"Nodes\",\n",
    "                    )\n",
    "data.append(trace)\n",
    "\n",
    "#   GENERATE A TRACE FOR EACH TRIANGLE\n",
    "#   ----------------------------------\n",
    "\n",
    "for edge in edges:\n",
    "    trace       =   oat.plot.edge__trace3d(edge=edge, coo=coo)\n",
    "    trace.update(\n",
    "        line=dict( color=\"red\" ), # let's color the edge red \n",
    "        opacity=0.5,\n",
    "        showlegend=True, # indicate we want this simplex to appear in the legend\n",
    "        name= f\"Simplex {edge}\", # label in the legend entry\n",
    "        text=f\"Vertices: {edge}\", # text we want to appear when hovering the cursor over the simple\n",
    "        )\n",
    "    data.append(trace)\n",
    "\n",
    "#   ADJUST THE PLOT LAYOUT\n",
    "#   ----------------------\n",
    "\n",
    "fig             =   go.Figure(data)\n",
    "fig.update_layout(\n",
    "    title=\"Hover cursory over a simplex to show its list of vertices<br>Click legend entries to toggle on/off\",\n",
    "    width=1000, \n",
    "    height=1000,     \n",
    "    scene = dict(\n",
    "        aspectratio=go.layout.scene.Aspectratio(x=1, y=1, z=1), # controls zoom\n",
    "        xaxis = dict(range=[-1, 1],), # x axis limits\n",
    "        yaxis = dict(range=[-1, 1],), # y axis limits\n",
    "        zaxis = dict(range=[-1, 1],), # z axis limits\n",
    "    ),    \n",
    ")\n",
    "fig.show()"
   ]
  },
  {
   "attachments": {},
   "cell_type": "markdown",
   "metadata": {},
   "source": [
    "# Sphere"
   ]
  },
  {
   "attachments": {},
   "cell_type": "markdown",
   "metadata": {},
   "source": [
    "### Define the sphere and compute homology"
   ]
  },
  {
   "cell_type": "code",
   "execution_count": null,
   "metadata": {},
   "outputs": [],
   "source": [
    "\n",
    "# cycle graph on four edges\n",
    "circle                  =   [ [0,1], [1,2], [2,3], [0,3] ]\n",
    "\n",
    "# suspension of the cycle (at least, the top dimensional simplices of the suspension)\n",
    "toplexes                =   [ edge + [x] for edge in circle for x in [4,5] ]"
   ]
  },
  {
   "attachments": {},
   "cell_type": "markdown",
   "metadata": {},
   "source": [
    "### Compute homology\n",
    "\n",
    "By factoring the boundary matrix of the associated Dowker complex"
   ]
  },
  {
   "cell_type": "code",
   "execution_count": null,
   "metadata": {},
   "outputs": [],
   "source": [
    "factored                =   oat.rust.FactoredBoundaryMatrixDowker( dowker_simplices = toplexes, max_homology_dimension =2  )"
   ]
  },
  {
   "attachments": {},
   "cell_type": "markdown",
   "metadata": {},
   "source": [
    "### Display the results"
   ]
  },
  {
   "cell_type": "code",
   "execution_count": null,
   "metadata": {},
   "outputs": [],
   "source": [
    "homology    =   factored.homology()\n",
    "\n",
    "print(    \"\\n\")\n",
    "print(    \"===================================================================================\")\n",
    "print(    \"Cycle representatives that represent a basis for homology in dimensions 0, 1, and 2\")\n",
    "print(    \"===================================================================================\")\n",
    "display( homology )\n",
    "print(    \"\\n\")\n",
    "print(    \"===============================\")\n",
    "print(    \"Individual cycle representative\")\n",
    "print(    \"===============================\")\n",
    "homology[\"cycle representative\"][1]"
   ]
  },
  {
   "attachments": {},
   "cell_type": "markdown",
   "metadata": {},
   "source": [
    "### Plot a cycle representative with MDS coordinates"
   ]
  },
  {
   "cell_type": "code",
   "execution_count": null,
   "metadata": {},
   "outputs": [],
   "source": [
    "\n",
    "#   EXTRACT A LIST OF TRIANGLE WHERE THE CYCLE TAKES NONZERO COEFFICIENTS\n",
    "#   ---------------------------------------------------------------------\n",
    "\n",
    "cycle           =   homology[\"cycle representative\"][1]\n",
    "triangles       =   cycle[\"simplex\"].tolist()\n",
    "\n",
    "#   GENERATE MDS COORDINATES FOR EACH VERTEX, BASED ON \"HOP DISTANCE\" WITHIN\n",
    "#   THE GRAPH COMPOSED OF EDGES THAT ARE INCIDENT TO TRIANGLES IN THE CYCLE\n",
    "#   ------------------------------------------------------------------------\n",
    "\n",
    "coo             =   oat.plot.hop_mds_from_simplices( triangles ) # coo stands for \"coordinate oracle\"\n",
    "x               =   [pt[0] for pt in coo.values()]\n",
    "y               =   [pt[1] for pt in coo.values()]\n",
    "z               =   [pt[2] for pt in coo.values()]\n",
    "\n",
    "#   GENERATE A TRACE FOR THE POINT CLOUD\n",
    "#   ------------------------------------\n",
    "\n",
    "data            =   []\n",
    "trace           =   go.Scatter3d(\n",
    "                        x=x,y=y,z=z,  # x, y, z coordinates\n",
    "                        mode=\"markers+text\", # indicates we want some text to appear next to each marker\n",
    "                        text=[f\"Node {p}\" for p in range( len(x) )], # the text we want to appear next to each point\n",
    "                        textposition=\"top center\", # where we want the text positioned, relative to the marker\n",
    "                        name=\"Nodes\",\n",
    "                    )\n",
    "data.append(trace)\n",
    "\n",
    "#   GENERATE A TRACE FOR EACH TRIANGLE\n",
    "#   ----------------------------------\n",
    "\n",
    "for triangle in triangles:\n",
    "    trace       =   oat.plot.triangle__trace3d(triangle=triangle, coo=coo)\n",
    "    trace.update(\n",
    "        color=\"red\", \n",
    "        opacity=0.5,\n",
    "        showlegend=True, # indicate we want this simplex to appear in the legend\n",
    "        name= f\"Simplex {triangle}\", # label in the legend entry\n",
    "        text=f\"Vertices: {triangle}\", # text we want to appear when hovering the cursor over the simple\n",
    "        )\n",
    "    data.append(trace)\n",
    "\n",
    "#   ADJUST THE PLOT LAYOUT\n",
    "#   ----------------------\n",
    "\n",
    "fig             =   go.Figure(data)\n",
    "fig.update_layout(\n",
    "    title=\"Hover cursory over a simplex to show its list of vertices<br>Click legend entries to toggle on/off\",\n",
    "    width=1000, \n",
    "    height=1000,     \n",
    "    scene = dict(\n",
    "        aspectratio=go.layout.scene.Aspectratio(x=1, y=1, z=1), # controls zoom\n",
    "        xaxis = dict(range=[-1, 1],), # x axis limits\n",
    "        yaxis = dict(range=[-1, 1],), # y axis limits\n",
    "        zaxis = dict(range=[-1, 1],), # z axis limits\n",
    "    ),    \n",
    ")\n",
    "fig.show()"
   ]
  }
 ],
 "metadata": {
  "kernelspec": {
   "display_name": "oat_oct_23_final_final_test",
   "language": "python",
   "name": "python3"
  },
  "language_info": {
   "codemirror_mode": {
    "name": "ipython",
    "version": 3
   },
   "file_extension": ".py",
   "mimetype": "text/x-python",
   "name": "python",
   "nbconvert_exporter": "python",
   "pygments_lexer": "ipython3",
   "version": "3.11.6"
  }
 },
 "nbformat": 4,
 "nbformat_minor": 2
}
