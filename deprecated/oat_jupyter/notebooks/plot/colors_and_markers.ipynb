{
 "cells": [
  {
   "attachments": {},
   "cell_type": "markdown",
   "metadata": {},
   "source": [
    "# More about colors and symbols"
   ]
  },
  {
   "cell_type": "code",
   "execution_count": null,
   "metadata": {},
   "outputs": [],
   "source": [
    "import plotly.express as px"
   ]
  },
  {
   "attachments": {},
   "cell_type": "markdown",
   "metadata": {},
   "source": [
    "## Discrete colors"
   ]
  },
  {
   "attachments": {},
   "cell_type": "markdown",
   "metadata": {},
   "source": [
    "Plotly provides several lists of colors for convenience.  For example, here's one list:"
   ]
  },
  {
   "cell_type": "code",
   "execution_count": null,
   "metadata": {},
   "outputs": [],
   "source": [
    "px.colors.qualitative.Plotly"
   ]
  },
  {
   "attachments": {},
   "cell_type": "markdown",
   "metadata": {},
   "source": [
    "Here's a complete list"
   ]
  },
  {
   "cell_type": "code",
   "execution_count": null,
   "metadata": {},
   "outputs": [],
   "source": [
    "\n",
    "\n",
    "fig = px.colors.qualitative.swatches()\n",
    "fig.show()"
   ]
  },
  {
   "attachments": {},
   "cell_type": "markdown",
   "metadata": {},
   "source": [
    "## Continuous color scales"
   ]
  },
  {
   "cell_type": "code",
   "execution_count": null,
   "metadata": {},
   "outputs": [],
   "source": [
    "fig = px.colors.sequential.swatches_continuous()\n",
    "fig.show()"
   ]
  },
  {
   "attachments": {},
   "cell_type": "markdown",
   "metadata": {},
   "source": [
    "## Markers\n",
    "\n",
    "It's possible to choose from several different symbols in a scatter plot.  See the Plotly [documenation](https://plotly.com/python/marker-style/) for more details."
   ]
  },
  {
   "cell_type": "code",
   "execution_count": null,
   "metadata": {},
   "outputs": [],
   "source": [
    "import plotly.graph_objects as go\n",
    "from plotly.validators.scatter.marker import SymbolValidator\n",
    "\n",
    "raw_symbols = SymbolValidator().values\n",
    "namestems = []\n",
    "namevariants = []\n",
    "symbols = []\n",
    "for i in range(0,len(raw_symbols),3):\n",
    "    name = raw_symbols[i+2]\n",
    "    symbols.append(raw_symbols[i])\n",
    "    namestems.append(name.replace(\"-open\", \"\").replace(\"-dot\", \"\"))\n",
    "    namevariants.append(name[len(namestems[-1]):])\n",
    "\n",
    "fig = go.Figure(go.Scatter(mode=\"markers\", x=namevariants, y=namestems, marker_symbol=symbols,\n",
    "                           marker_line_color=\"midnightblue\", marker_color=\"lightskyblue\",\n",
    "                           marker_line_width=2, marker_size=15,\n",
    "                           hovertemplate=\"name: %{y}%{x}<br>number: %{marker.symbol}<extra></extra>\"))\n",
    "fig.update_layout(title=\"Mouse over symbols for name & number!\",\n",
    "                  xaxis_range=[-1,4], yaxis_range=[len(set(namestems)),-1],\n",
    "                  margin=dict(b=0,r=0), xaxis_side=\"top\", height=1400, width=400)\n",
    "fig.show()"
   ]
  }
 ],
 "metadata": {
  "kernelspec": {
   "display_name": "oat_oct_23_final_final_test",
   "language": "python",
   "name": "python3"
  },
  "language_info": {
   "codemirror_mode": {
    "name": "ipython",
    "version": 3
   },
   "file_extension": ".py",
   "mimetype": "text/x-python",
   "name": "python",
   "nbconvert_exporter": "python",
   "pygments_lexer": "ipython3",
   "version": "3.11.6"
  }
 },
 "nbformat": 4,
 "nbformat_minor": 2
}
