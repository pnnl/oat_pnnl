{
 "cells": [
  {
   "attachments": {},
   "cell_type": "markdown",
   "metadata": {},
   "source": [
    "# THIS NOTEBOOK IS UNDER CONSTRUCTION; PLEASE CONTACT THE DEVELOPERS FOR ASSISTANCE\n",
    "\n",
    "# Plotting surfaces"
   ]
  },
  {
   "attachments": {},
   "cell_type": "markdown",
   "metadata": {},
   "source": []
  },
  {
   "cell_type": "code",
   "execution_count": null,
   "metadata": {},
   "outputs": [],
   "source": [
    "import oat_python as oat\n",
    "import numpy as np\n",
    "import plotly.graph_objects as go\n",
    "import itertools"
   ]
  },
  {
   "attachments": {},
   "cell_type": "markdown",
   "metadata": {},
   "source": [
    "## Orthographic projection (dropping perspective effect)"
   ]
  },
  {
   "cell_type": "code",
   "execution_count": null,
   "metadata": {},
   "outputs": [],
   "source": [
    "traces = oat.plot.surface_octahedron()\n",
    "for trace in traces:\n",
    "    trace.update(opacity=0.1)\n",
    "\n",
    "coo = np.array( # coordinate oracle\n",
    "    [\n",
    "        # first four columns \"walk around the equator along adjacent vertices\"\n",
    "        # the final two columns represent the north/south poles\n",
    "        [ -1,  0, 1,  0,  0,  0 ], # x\n",
    "        [  0, -1, 0,  1,  0,  0 ], # y\n",
    "        [  0,  0, 0,  0, -1,  1 ], # z\n",
    "    ]\n",
    ").T\n",
    "\n",
    "circle      =   [ [0,1], [1,2], [2,3], [3,0] ]\n",
    "triangles   =   np.array( [ edge + [pole] for edge in circle for pole in [4,5] ] )\n",
    "edges       =   oat.simplex.dmsimplicesasrows__dnfacesasrows( dksimplices_as_rows=triangles, facedim=1 )\n",
    "\n",
    "trace       =   oat.plot.edges__trace3d( edges=edges, coo=coo )\n",
    "trace.update(line=dict(color=\"darkred\", width=4), marker=dict(color=\"cornflowerblue\", size=15), )\n",
    "fig         =   go.Figure( traces + [trace])\n",
    "\n",
    "fig.update_layout(\n",
    "    template=\"simple_white\",\n",
    "    width=1000, \n",
    "    height=1000,     \n",
    "    scene = dict(\n",
    "        aspectratio=go.layout.scene.Aspectratio(x=1, y=1, z=1.5), # controls zoom\n",
    "        xaxis = dict(range=[-1.2, 1.2],), # x axis limits\n",
    "        yaxis = dict(range=[-1.2, 1.2],), # y axis limits\n",
    "        zaxis = dict(range=[-1.2, 1.2],), # z axis limits\n",
    "        camera=dict(\n",
    "            projection=dict(\n",
    "                type='orthographic'\n",
    "            )\n",
    "        )        \n",
    "    ),    \n",
    ")\n",
    "fig.show()\n",
    "\n",
    "import plotly.io as pio"
   ]
  },
  {
   "cell_type": "markdown",
   "metadata": {},
   "source": [
    "## Save the image to a file (and delete it)"
   ]
  },
  {
   "cell_type": "code",
   "execution_count": null,
   "metadata": {},
   "outputs": [],
   "source": [
    "# Specify the path to the file you want to save/delete\n",
    "file_path = 'plot.png'\n",
    "\n",
    "# save the file\n",
    "pio.write_image(fig, file_path, scale=10)\n",
    "\n",
    "\n",
    "# Check if the file exists and then delete it\n",
    "import os\n",
    "if os.path.exists(file_path):\n",
    "    os.remove(file_path)\n",
    "    print(f\"{file_path} has been deleted.\")\n",
    "else:\n",
    "    print(f\"{file_path} does not exist.\")"
   ]
  },
  {
   "attachments": {},
   "cell_type": "markdown",
   "metadata": {},
   "source": [
    "## See also: `oat.plot.surface_cube` and `oat.plot.surface_rectange` (they're different)"
   ]
  },
  {
   "cell_type": "code",
   "execution_count": null,
   "metadata": {},
   "outputs": [],
   "source": [
    "#   a wire sphere\n",
    "data            =   oat.plot.wire_sphere3d(0,0,0,1, nlattitude=5, nlongitude=4)\n",
    "for n, trace in enumerate(data):\n",
    "    trace.update( legendgroup=\"1\", showlegend = (n==0), line=dict(color=\"white\", width=3) )\n",
    "\n",
    "fig = go.Figure(data=data)\n",
    "fig.update_layout( title=dict(text=\"Sphere with noise - try rotating!\"), width=800, height=800, template=\"plotly_dark\",)\n",
    "\n",
    "fig.update_layout(scene = dict(xaxis = dict(showgrid = False,showticklabels = False, ),\n",
    "                                   yaxis = dict(showgrid = False,showticklabels = False),\n",
    "                                   zaxis = dict(showgrid = False,showticklabels = False)\n",
    "             ))\n",
    "\n",
    "fig.show()"
   ]
  },
  {
   "attachments": {},
   "cell_type": "markdown",
   "metadata": {},
   "source": [
    "# Simplices"
   ]
  },
  {
   "cell_type": "code",
   "execution_count": null,
   "metadata": {},
   "outputs": [],
   "source": [
    "pcloud      =   np.random.rand(10,3)\n",
    "simplices   =   [list(x) for x in itertools.combinations( range(5),4)]\n",
    "triangles   =   oat.simplex.dnfaces( simplices, facedim=2 )\n",
    "trace       =   oat.plot.triangles__trace3d( triangles_as_rows=list(triangles), coo=pcloud )\n",
    "\n",
    "trace.update(intensity=np.random.rand(10))\n",
    "data = [trace]\n",
    "fig = go.Figure(data)\n",
    "fig.show()"
   ]
  },
  {
   "attachments": {},
   "cell_type": "markdown",
   "metadata": {},
   "source": [
    "# Rectangle"
   ]
  },
  {
   "cell_type": "code",
   "execution_count": null,
   "metadata": {},
   "outputs": [],
   "source": [
    "cloud = oat.point_cloud.slice_of_sphere(npoints=20)\n",
    "\n",
    "\n",
    "trace, x, y, z = oat.plot.surface_rectangle( -1,1, -2,2, -4, 4 )\n",
    "trace.update( surfacecolor = x * y * z )\n",
    "fig = go.Figure( data=[trace] )\n",
    "\n",
    "# #   PLOT THE POINT CLOUD\n",
    "# data = []\n",
    "# trace = go.Scatter3d(x=cloud[:,0],y=cloud[:,1],z=cloud[:,2], mode=\"markers\", marker=dict(symbol=\"circle-open\", color=cloud[:,0], colorscale=\"rainbow\"), name=\"Point cloud\")\n",
    "# data.append(trace)\n",
    "\n",
    "# #   PLOT THE HYPEREDGES\n",
    "\n",
    "# for counter, point in enumerate(cloud):\n",
    "#     trace, x, y, z = oat.plot.surface_cube( point[0],point[1],point[2], width=1, anchor=\"center\")\n",
    "#     trace.update(opacity=1, showscale=False, showlegend=True, name=f\"Edge {counter}\" )\n",
    "#     trace.update(surfacecolor = x, cmin=-2, cmax=2, colorscale=\"greys\")\n",
    "    \n",
    "#     # hide some cubes (but you can toggle them back on)\n",
    "#     if counter %2 ==0 : trace.update(visible='legendonly',) \n",
    "#     data.append(trace)\n",
    "\n",
    "# fig = go.Figure([trace])\n",
    "fig.update_layout(width=800, height=800 )\n",
    "fig.update_layout(\n",
    "    title = f\"Toggle the hyperedges!\",\n",
    "    scene = dict(\n",
    "        # aspectmode = \"cube\",\n",
    "        aspectratio=go.layout.scene.Aspectratio(x=2, y=2, z=2),\n",
    "        xaxis = dict(range=[-5, 5],),\n",
    "        yaxis = dict(range=[-5, 5],),\n",
    "        zaxis = dict(range=[-5, 5],),                \n",
    "    )\n",
    ")\n",
    "# fig.update_layout(template=\"plotly_dark\") \n",
    "fig.show()"
   ]
  },
  {
   "attachments": {},
   "cell_type": "markdown",
   "metadata": {},
   "source": [
    "# Cubes"
   ]
  },
  {
   "cell_type": "code",
   "execution_count": null,
   "metadata": {},
   "outputs": [],
   "source": [
    "cloud = oat.point_cloud.slice_of_sphere(npoints=20)\n",
    "\n",
    "#   PLOT THE POINT CLOUD\n",
    "data = []\n",
    "trace = go.Scatter3d(x=cloud[:,0],y=cloud[:,1],z=cloud[:,2], mode=\"markers\", marker=dict(symbol=\"circle-open\", color=cloud[:,0], colorscale=\"rainbow\"), name=\"Point cloud\")\n",
    "data.append(trace)\n",
    "\n",
    "#   PLOT THE HYPEREDGES\n",
    "\n",
    "for counter, point in enumerate(cloud):\n",
    "    trace, x, y, z = oat.plot.surface_cube( point[0],point[1],point[2], width=1, anchor=\"center\")\n",
    "    trace.update(opacity=1, showscale=False, showlegend=True, name=f\"Edge {counter}\" )\n",
    "    trace.update(surfacecolor = x, cmin=-2, cmax=2, colorscale=\"greys\")\n",
    "    \n",
    "    # hide some cubes (but you can toggle them back on)\n",
    "    if counter %2 ==0 : trace.update(visible='legendonly',) \n",
    "    data.append(trace)\n",
    "\n",
    "fig = go.Figure(data)\n",
    "fig.update_layout(width=800, height=800 )\n",
    "fig.update_layout(\n",
    "    title = f\"Toggle the hyperedges!\",\n",
    "    scene = dict(\n",
    "        # aspectmode = \"cube\",\n",
    "        aspectratio=go.layout.scene.Aspectratio(x=2, y=2, z=2),\n",
    "        xaxis = dict(range=[-2.5,2.5],),\n",
    "        yaxis = dict(range=[-2.5,2.5],),\n",
    "        zaxis = dict(range=[-2.5,2.5],),                \n",
    "    )\n",
    ")\n",
    "# fig.update_layout(template=\"plotly_dark\") \n",
    "fig.show()"
   ]
  },
  {
   "cell_type": "code",
   "execution_count": null,
   "metadata": {},
   "outputs": [],
   "source": [
    "cloud = oat.point_cloud.slice_of_sphere(npoints=20)\n",
    "\n",
    "#   PLOT THE POINT CLOUD\n",
    "data = []\n",
    "trace = go.Scatter3d(x=cloud[:,0],y=cloud[:,1],z=cloud[:,2], mode=\"markers\", marker=dict(symbol=\"circle-open\", color=cloud[:,0], colorscale=\"rainbow\"), name=\"Point cloud\")\n",
    "data.append(trace)\n",
    "\n",
    "#   PLOT THE HYPEREDGES\n",
    "\n",
    "for counter, point in enumerate(cloud):\n",
    "    trace, x, y, z = oat.plot.surface_cube( point[0],point[1],point[2], width=1, anchor=\"center\")\n",
    "    trace.update(opacity=1, showscale=False, showlegend=True, name=f\"Edge {counter}\" )\n",
    "    trace.update(surfacecolor = x, cmin=-2, cmax=2, colorscale=\"greys\")\n",
    "    \n",
    "    # hide some cubes (but you can toggle them back on)\n",
    "    if counter %2 ==0 : trace.update(visible='legendonly',) \n",
    "    data.append(trace)\n",
    "\n",
    "fig = go.Figure(data)\n",
    "fig.update_layout(width=1200, height=800, template=\"plotly_dark\",)\n",
    "fig.update_layout(\n",
    "    title = f\"Toggle the hyperedges!\",\n",
    "    scene = dict(\n",
    "        # aspectmode = \"cube\",\n",
    "        aspectratio=go.layout.scene.Aspectratio(x=2, y=2, z=2),\n",
    "        xaxis = dict(range=[-2.5,2.5],),\n",
    "        yaxis = dict(range=[-2.5,2.5],),\n",
    "        zaxis = dict(range=[-2.5,2.5],),                \n",
    "    )\n",
    ")\n",
    "# fig.update_layout(template=\"plotly_dark\") \n",
    "fig.show()"
   ]
  },
  {
   "cell_type": "code",
   "execution_count": null,
   "metadata": {},
   "outputs": [],
   "source": []
  }
 ],
 "metadata": {
  "kernelspec": {
   "display_name": "oat_oct_23_final_final_test",
   "language": "python",
   "name": "python3"
  },
  "language_info": {
   "codemirror_mode": {
    "name": "ipython",
    "version": 3
   },
   "file_extension": ".py",
   "mimetype": "text/x-python",
   "name": "python",
   "nbconvert_exporter": "python",
   "pygments_lexer": "ipython3",
   "version": "3.11.6"
  }
 },
 "nbformat": 4,
 "nbformat_minor": 2
}
