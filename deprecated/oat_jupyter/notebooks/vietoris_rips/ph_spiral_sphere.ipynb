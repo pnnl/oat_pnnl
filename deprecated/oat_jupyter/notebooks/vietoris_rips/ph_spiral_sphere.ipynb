{
 "cells": [
  {
   "cell_type": "code",
   "execution_count": null,
   "metadata": {},
   "outputs": [],
   "source": [
    "import oat_python as oat\n",
    "\n",
    "import numpy as np\n",
    "import plotly.graph_objects as go"
   ]
  },
  {
   "attachments": {},
   "cell_type": "markdown",
   "metadata": {},
   "source": [
    "# Generate a point cloud"
   ]
  },
  {
   "cell_type": "code",
   "execution_count": null,
   "metadata": {},
   "outputs": [],
   "source": [
    "cloud               =   oat.point_cloud.spiral_sphere(npoints=300, noise_scale=0.07, random_seed=0)\n",
    "\n",
    "#   PLOT THE POINT CLOUD\n",
    "trace               =   go.Scatter3d(x=cloud[:,0],y=cloud[:,1],z=cloud[:,2], mode=\"markers\", marker=dict(opacity=1, size=4, color=cloud[:,2], colorscale=\"Aggrnyl\"))\n",
    "fig                 =   go.Figure(data=trace)\n",
    "fig.update_layout(title=dict(text=\"Shere\"), height=800,width=850) \n",
    "fig.show()"
   ]
  },
  {
   "attachments": {},
   "cell_type": "markdown",
   "metadata": {},
   "source": [
    "# Compute persistent homology"
   ]
  },
  {
   "attachments": {},
   "cell_type": "markdown",
   "metadata": {},
   "source": [
    "We compute persistent homology by factoring the boundary matrix.  The following cell generates a sparse distance matrix and feeds it to the persistent homology solver.  The result is a factored boundary matrix.  We will extract information from this matrix in the following cells."
   ]
  },
  {
   "cell_type": "code",
   "execution_count": null,
   "metadata": {},
   "outputs": [],
   "source": [
    "dissimilairty_matrix    =   oat.dissimilarity.matrix_from_cloud(            \n",
    "                                cloud                   =   cloud,\n",
    "                                dissimilarity_max       =   0.5, # edges with length > 0.5 are excluded from the filtration\n",
    "                            )\n",
    "\n",
    "# build and factor the boundary matrix\n",
    "factored                =   oat.rust.FactoredBoundaryMatrixVr( \n",
    "                                dissimilarity_matrix    =   dissimilairty_matrix,\n",
    "                                homology_dimension_max  =   2,\n",
    "                            )"
   ]
  },
  {
   "attachments": {},
   "cell_type": "markdown",
   "metadata": {},
   "source": [
    "Full details on `FactoredBoundaryMatrixVr` can be retreived with Python's `help` function."
   ]
  },
  {
   "cell_type": "code",
   "execution_count": null,
   "metadata": {},
   "outputs": [],
   "source": [
    "help(oat.rust.FactoredBoundaryMatrixVr)"
   ]
  },
  {
   "attachments": {},
   "cell_type": "markdown",
   "metadata": {},
   "source": [
    "# Plot the persistence diagram"
   ]
  },
  {
   "cell_type": "code",
   "execution_count": null,
   "metadata": {},
   "outputs": [],
   "source": [
    "#   PLOT THE BARCODE\n",
    "\n",
    "homology            =   factored.homology(\n",
    "                            return_cycle_representatives     =   True,\n",
    "                            return_bounding_chains          =   True,\n",
    "                        )\n",
    "\n",
    "fig_pd              =   oat.plot.pd( homology )\n",
    "fig_pd.show()"
   ]
  },
  {
   "attachments": {},
   "cell_type": "markdown",
   "metadata": {},
   "source": [
    "# Plot the barcode"
   ]
  },
  {
   "cell_type": "code",
   "execution_count": null,
   "metadata": {},
   "outputs": [],
   "source": [
    "fig_barcode              =   oat.plot.barcode( barcode=homology )\n",
    "fig_barcode.show()"
   ]
  },
  {
   "attachments": {},
   "cell_type": "markdown",
   "metadata": {},
   "source": [
    "# Inspect homology and cycle representatives\n",
    "\n",
    "The `homology` object is a data frame"
   ]
  },
  {
   "cell_type": "code",
   "execution_count": null,
   "metadata": {},
   "outputs": [],
   "source": [
    "display(homology)"
   ]
  },
  {
   "attachments": {},
   "cell_type": "markdown",
   "metadata": {},
   "source": [
    "# Inspect a cycle representative and its bounding chain\n",
    "\n",
    "By default, terms appear in reverse filtration order (ties are broken by reverse lexicographic order)"
   ]
  },
  {
   "cell_type": "code",
   "execution_count": null,
   "metadata": {},
   "outputs": [],
   "source": [
    "homology[\"cycle representative\"][420]"
   ]
  },
  {
   "cell_type": "code",
   "execution_count": null,
   "metadata": {},
   "outputs": [],
   "source": [
    "homology[\"bounding chain\"][420]"
   ]
  },
  {
   "attachments": {},
   "cell_type": "markdown",
   "metadata": {},
   "source": [
    "# Plot a representative"
   ]
  },
  {
   "cell_type": "code",
   "execution_count": null,
   "metadata": {},
   "outputs": [],
   "source": [
    "#   FIND THE LONGEST BAR IN DIMENSION 1\n",
    "\n",
    "def lifetime(p):\n",
    "     \"\"\"\n",
    "     gets the lifetime of a feature; returns -infinity for features of dimension != 1\n",
    "     \"\"\"\n",
    "     if homology[\"dimension\"][p]!= 1:\n",
    "          return -np.inf\n",
    "     else:\n",
    "          return homology[\"death\"][p] - homology[\"birth\"][p]\n",
    "\n",
    "max( \n",
    "     range(homology.shape[0]),  # number of rows in the data frame\n",
    "     key    =   lifetime,\n",
    ")"
   ]
  },
  {
   "cell_type": "code",
   "execution_count": null,
   "metadata": {},
   "outputs": [],
   "source": [
    "#   PLOT\n",
    "\n",
    "edges               =   homology[\"cycle representative\"][420][\"simplex\"].tolist() # the cycle\n",
    "triangles           =   homology[\"bounding chain\"][420][\"simplex\"].tolist() # the chain that bounds the cycle\n",
    "coo                 =   cloud # coo stands for coordinate oracle\n",
    "\n",
    "traces_edge         =   [ oat.plot.edge__trace3d( edge, coo  ) for edge in edges ]\n",
    "trace_triangle      =   oat.plot.triangles__trace3d( triangles, coo ) \n",
    "trace_cloud         =   go.Scatter3d(x=cloud[:,0],y=cloud[:,1],z=cloud[:,2], mode=\"markers\", marker = dict(opacity=0.5, size=3, color=cloud[:,1], colorscale=\"Aggrnyl\"))\n",
    "\n",
    "trace_cloud.update(showlegend=True, opacity=0.5, name=\"Point cloud\")\n",
    "trace_triangle.update(showlegend=True, legendgroup=\"triangles\", opacity=0.5, name=\"Bounding chain\", color=\"black\")\n",
    "for trace_number, trace in enumerate( traces_edge ):\n",
    "    showlegend      =   trace_number == 0\n",
    "    trace.update(showlegend=showlegend, legendgroup=\"edges\", opacity=0.5, name=\"Initial cycle\", line=dict(color=\"red\", width=10))\n",
    "\n",
    "fig = go.Figure(data= [trace_cloud] + traces_edge + [trace_triangle] )\n",
    "fig.update_layout(title=dict(text=\"Cycle representative and bounding chain\"))\n",
    "fig.update_layout(height=800,width=850) \n",
    "fig.show()"
   ]
  }
 ],
 "metadata": {
  "kernelspec": {
   "display_name": "oat_oct_23_final_final_test",
   "language": "python",
   "name": "python3"
  },
  "language_info": {
   "codemirror_mode": {
    "name": "ipython",
    "version": 3
   },
   "file_extension": ".py",
   "mimetype": "text/x-python",
   "name": "python",
   "nbconvert_exporter": "python",
   "pygments_lexer": "ipython3",
   "version": "3.11.6"
  }
 },
 "nbformat": 4,
 "nbformat_minor": 2
}
