{
 "cells": [
  {
   "attachments": {},
   "cell_type": "markdown",
   "metadata": {},
   "source": [
    "# Reduce a hypergraph and compute RBS homology\n",
    "\n",
    "\n",
    "\n",
    "<span style=\"color:red\">\n",
    "Important notes: \n",
    "</span>\n",
    "\n",
    "- the strategy is to represent the complex as the Vietoris Rips complex of the adjcency matrix of the complement of the (undirected) graph representing the edge containment poset\n",
    "- there are more powerful reduction methods than the one shown here.  Enquire for details!"
   ]
  },
  {
   "cell_type": "code",
   "execution_count": null,
   "metadata": {},
   "outputs": [],
   "source": [
    "import oat_python as oat\n",
    "\n",
    "import copy\n",
    "import plotly.graph_objects as go\n",
    "import numpy as np\n",
    "import networkx as nx\n",
    "import hypernetx as hnx"
   ]
  },
  {
   "attachments": {},
   "cell_type": "markdown",
   "metadata": {},
   "source": [
    "# Define a hypergraph"
   ]
  },
  {
   "cell_type": "code",
   "execution_count": null,
   "metadata": {},
   "outputs": [],
   "source": [
    "# define a hypergraph\n",
    "\n",
    "E = { \"A\": [\"x\"], \"B\": [\"y\"], \"C\": [\"x\",\"y\",\"z\",\"zz\"], \"D\": [\"x\",\"y\",\"w\",\"ww\"], \"DD\": [\"x\",\"y\",\"w\",\"ww\"] }"
   ]
  },
  {
   "attachments": {},
   "cell_type": "markdown",
   "metadata": {},
   "source": [
    "# Relabel and reduce\n",
    "\n",
    "Homology calculations are only available for one hypergraphs in one data format: a list of sorted-lists of integers.  **However** we provide tools to translate back and forth between this and other data fromats, e.g. a dictionary of lists of strings.  \n",
    "\n",
    "Below is one example.  Here we perform two actions in one step: \n",
    "- reduce the hypergraph by removing duplicate hyperedges (meaning hyperedges with the same vertex set) and duplicate nodes (meaning nodes that belong to the same set of hyperedges)\n",
    "- reformat the reduced hypergraph as a list of sorted-lists of integers"
   ]
  },
  {
   "cell_type": "code",
   "execution_count": null,
   "metadata": {},
   "outputs": [],
   "source": [
    "# collapse out redundant information, returning a list of lists\n",
    "reduced_hg, label_translator = oat.hypergraph.reduce_hypergraph_with_labels(E)\n",
    "\n",
    "# The label_translator object contains the information about what edge \n",
    "# (respectively, node) in the original hypergraph maps to which edge\n",
    "# (respectively, node) in the reduced hypergraph.\n",
    "\n",
    "# for key in label_translator.keys(): print(key)\n",
    "\n",
    "print(\"\\n\\nReduced hypergraph edges\")\n",
    "print(\"------------------------\")\n",
    "display(reduced_hg)\n",
    "\n",
    "print(\"\\n\\nNode / edge label translator\")\n",
    "print(\"----------------------------\")\n",
    "display(label_translator)"
   ]
  },
  {
   "attachments": {},
   "cell_type": "markdown",
   "metadata": {},
   "source": [
    "# Plot"
   ]
  },
  {
   "attachments": {},
   "cell_type": "markdown",
   "metadata": {},
   "source": [
    "### Initial hypergraph"
   ]
  },
  {
   "cell_type": "code",
   "execution_count": null,
   "metadata": {},
   "outputs": [],
   "source": [
    "hnxgraph = hnx.Hypergraph(E)\n",
    "hnx.drawing.draw(hnxgraph)"
   ]
  },
  {
   "attachments": {},
   "cell_type": "markdown",
   "metadata": {},
   "source": [
    "### Reduced hypergraph"
   ]
  },
  {
   "cell_type": "code",
   "execution_count": null,
   "metadata": {},
   "outputs": [],
   "source": [
    "# plot the hypergraph\n",
    "\n",
    "hnxgraph = hnx.Hypergraph(reduced_hg)\n",
    "hnx.drawing.draw(hnxgraph)"
   ]
  },
  {
   "attachments": {},
   "cell_type": "markdown",
   "metadata": {},
   "source": [
    "### Reduced hypergraph, with original labels\n",
    "\n",
    "Note that we have to\n",
    "- label each node/vertex with a whole *set* of the old labels, since many nodes/edges in the original hypergraph can map to the the same node/edge of the reduced hypergraph\n",
    "- here we converted each set of old labels to a string, to make it hashable; it's possible you can sidestep this step in HNX by using a different constructor"
   ]
  },
  {
   "cell_type": "code",
   "execution_count": null,
   "metadata": {},
   "outputs": [],
   "source": [
    "remap_edge              =   lambda x: str(label_translator[\"new_edge_to_old_edges\"][x])\n",
    "remap_node              =   lambda x: str(label_translator[\"new_node_to_old_nodes\"][x])\n",
    "reduced_hg_relabeled    =   { remap_edge(edge_label): [ remap_node(n) for n in edge_nodes ] \\\n",
    "                                for edge_label, edge_nodes in enumerate(reduced_hg) }\n",
    "hnxgraph                =   hnx.Hypergraph(reduced_hg_relabeled)\n",
    "hnx.drawing.draw(hnxgraph)"
   ]
  },
  {
   "attachments": {},
   "cell_type": "markdown",
   "metadata": {},
   "source": [
    "# Compute homology"
   ]
  },
  {
   "cell_type": "code",
   "execution_count": null,
   "metadata": {},
   "outputs": [],
   "source": [
    "# graph representing the edge containment poset (forgetting direction)\n",
    "containment                 =   oat.hypergraph.edge_containment_graph_symmetrized( reduced_hg )\n",
    "# graph whose edges form the set complement of the containment graph\n",
    "anticontainment             =   nx.complement( containment )\n",
    "# adjacency matrix of the anticontainment graph\n",
    "anti_adjacency              =   nx.adjacency_matrix( anticontainment ).todense()\n",
    "dissimilarity_matrtix       =   oat.dissimilarity.matrix_from_dense(\n",
    "                                    dissimilarity_matrix    =   anti_adjacency,\n",
    "                                    dissimilarity_max       =   0.5\n",
    "                                )\n",
    "\n",
    "# factored boundary matrix\n",
    "factored                    =   oat.rust.FactoredBoundaryMatrixVr(\n",
    "                                    dissimilarity_matrix    =   dissimilarity_matrtix,\n",
    "                                    homology_dimension_max  =   1, \n",
    "                                )"
   ]
  },
  {
   "cell_type": "code",
   "execution_count": null,
   "metadata": {},
   "outputs": [],
   "source": [
    "# print homology\n",
    "homology        =   factored.homology(\n",
    "                        return_cycle_representatives    =   True,\n",
    "                        return_bounding_chains          =   True,\n",
    "                    )\n",
    "display(homology)"
   ]
  },
  {
   "attachments": {},
   "cell_type": "markdown",
   "metadata": {},
   "source": [
    "# Inspect a cycle representative"
   ]
  },
  {
   "cell_type": "code",
   "execution_count": null,
   "metadata": {},
   "outputs": [],
   "source": [
    "cycle           =   homology[\"cycle representative\"][1]\n",
    "display(cycle)"
   ]
  },
  {
   "attachments": {},
   "cell_type": "markdown",
   "metadata": {},
   "source": [
    "### Relabel each vertex with an edge"
   ]
  },
  {
   "attachments": {},
   "cell_type": "markdown",
   "metadata": {},
   "source": [
    "Recall that each vertex in RBS homology represents an edge in the reduced hypergraph (which corresponds to a set of hyperedges in the initial hypergraph).  Here we relabel each vertex with **one** of the edges that maps to it."
   ]
  },
  {
   "cell_type": "code",
   "execution_count": null,
   "metadata": {},
   "outputs": [],
   "source": [
    "\n",
    "remap = { p: l[0] for p,l in enumerate(label_translator[\"new_edge_to_old_edges\"]) }\n",
    "\n",
    "cycle               =   copy.deepcopy(homology[\"cycle representative\"][1])\n",
    "cycle[\"simplex\"]    =   [ [remap[x] for x in simplex] for simplex in cycle[\"simplex\"] ]\n",
    "\n",
    "cycle"
   ]
  },
  {
   "attachments": {},
   "cell_type": "markdown",
   "metadata": {},
   "source": [
    "### Relable each vertex with a **set** of edges\n",
    "\n",
    "Recall that each vertex in RBS homology represents an edge in the reduced hypergraph (which corresponds to a set of hyperedges in the initial hypergraph)."
   ]
  },
  {
   "cell_type": "code",
   "execution_count": null,
   "metadata": {},
   "outputs": [],
   "source": [
    "remap               =   label_translator[\"new_edge_to_old_edges\"]\n",
    "\n",
    "cycle               =   copy.deepcopy(homology[\"cycle representative\"][1])\n",
    "cycle[\"simplex\"]    =   [ [remap[x] for x in simplex] for simplex in cycle[\"simplex\"] ]\n",
    "cycle\n"
   ]
  },
  {
   "attachments": {},
   "cell_type": "markdown",
   "metadata": {},
   "source": [
    "# Plot a cycle representative"
   ]
  },
  {
   "cell_type": "code",
   "execution_count": null,
   "metadata": {},
   "outputs": [],
   "source": [
    "edges   =   homology[\"cycle representative\"][1][\"simplex\"]\n",
    "coo     =   oat.plot.hop_mds_from_simplices( edges.tolist() )\n",
    "\n",
    "display(edges)\n",
    "display(coo)"
   ]
  },
  {
   "cell_type": "code",
   "execution_count": null,
   "metadata": {},
   "outputs": [],
   "source": [
    "\n",
    "remap               =   label_translator[\"new_edge_to_old_edges\"]\n",
    "\n",
    "data    =   []\n",
    "for edge in edges:\n",
    "    trace   =   oat.plot.edge__trace3d( edge=edge, coo=coo )\n",
    "    label   =   \"Simplex \" + str( [ remap[x] for x in edge] )\n",
    "    trace.update( name=label, text=label )\n",
    "    data.append(trace)\n",
    "\n",
    "fig = go.Figure(data)\n",
    "fig.update_layout(title=\"Hover the cursor to show the label of each simplex!\")\n",
    "fig.show()\n",
    "\n"
   ]
  }
 ],
 "metadata": {
  "kernelspec": {
   "display_name": "oat_oct_23_final_final_test",
   "language": "python",
   "name": "python3"
  },
  "language_info": {
   "codemirror_mode": {
    "name": "ipython",
    "version": 3
   },
   "file_extension": ".py",
   "mimetype": "text/x-python",
   "name": "python",
   "nbconvert_exporter": "python",
   "pygments_lexer": "ipython3",
   "version": "3.11.6"
  }
 },
 "nbformat": 4,
 "nbformat_minor": 2
}
