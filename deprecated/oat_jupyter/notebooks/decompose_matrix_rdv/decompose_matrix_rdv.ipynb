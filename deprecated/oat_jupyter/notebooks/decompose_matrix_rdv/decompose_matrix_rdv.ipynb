{
 "cells": [
  {
   "attachments": {},
   "cell_type": "markdown",
   "metadata": {},
   "source": [
    "# Compute and R=DV factorization\n",
    "\n",
    "[R = DV factorization](https://dl.acm.org/doi/10.1145/1137856.1137877) is a standard tool to compute persistent homology.  This notebook computes an R = DV factorization with OAT, then exports the matrices to Scipy sparse CSR matrices."
   ]
  },
  {
   "cell_type": "code",
   "execution_count": null,
   "metadata": {},
   "outputs": [],
   "source": [
    "import oat_python as oat\n",
    "\n",
    "import numpy as np\n",
    "import plotly.graph_objects as go\n",
    "import matplotlib.pyplot as plt"
   ]
  },
  {
   "attachments": {},
   "cell_type": "markdown",
   "metadata": {},
   "source": [
    "# Generate a point cloud"
   ]
  },
  {
   "cell_type": "code",
   "execution_count": null,
   "metadata": {},
   "outputs": [],
   "source": [
    "cloud               =   oat.point_cloud.spiral_sphere(npoints=30, noise_scale=0.07, random_seed=0)\n",
    "\n",
    "#   PLOT THE POINT CLOUD\n",
    "trace               =   go.Scatter3d(x=cloud[:,0],y=cloud[:,1],z=cloud[:,2], mode=\"markers\", marker=dict(opacity=1, size=4, color=cloud[:,2], colorscale=\"Aggrnyl\"))\n",
    "fig                 =   go.Figure(data=trace)\n",
    "fig.update_layout(title=dict(text=\"Shere\"), height=800,width=850) \n",
    "fig.show()"
   ]
  },
  {
   "attachments": {},
   "cell_type": "markdown",
   "metadata": {},
   "source": [
    "# Compute persistent homology"
   ]
  },
  {
   "attachments": {},
   "cell_type": "markdown",
   "metadata": {},
   "source": [
    "We compute persistent homology by factoring the boundary matrix.  The following cell generates a sparse distance matrix and feeds it to the persistent homology solver.  The result is a factored boundary matrix.  We will extract information from this matrix in the following cells."
   ]
  },
  {
   "cell_type": "code",
   "execution_count": null,
   "metadata": {},
   "outputs": [],
   "source": [
    "\n",
    "# the minimum enclosing radius; all homology vanishes above this filtration parameter\n",
    "enclosing               =   oat.dissimilarity.enclosing_from_cloud(cloud)   \n",
    "\n",
    "# distance matrix with values over enclosing + 0.0000000001 removed; adding 0.0000000001 avoids problems due to numerical error\n",
    "dissimilairty_matrix    =   oat.dissimilarity.matrix_from_cloud(            \n",
    "                                cloud                   =   cloud,\n",
    "                                dissimilarity_max       =   enclosing + 0.00000000001,\n",
    "                            )\n",
    "\n",
    "# build and factor the boundary matrix\n",
    "factored                =   oat.rust.FactoredBoundaryMatrixVr( \n",
    "                                dissimilarity_matrix    =   dissimilairty_matrix,\n",
    "                                homology_dimension_max  =   2,\n",
    "                            )"
   ]
  },
  {
   "attachments": {},
   "cell_type": "markdown",
   "metadata": {},
   "source": [
    "# Export R = DV decomposition to Scipy"
   ]
  },
  {
   "cell_type": "code",
   "execution_count": null,
   "metadata": {},
   "outputs": [],
   "source": [
    "#   Export scipy.sparse.csr_matrix objects\n",
    "V                   =   factored.comb_domain()\n",
    "D                   =   factored.boundary_matrix()\n",
    "\n",
    "#   Scipy has limited functionality for coefficients of type Fraction, so convert to float\n",
    "V.data              =   V.data.astype(float)\n",
    "D.data              =   D.data.astype(float)\n",
    "\n",
    "#   plot sparsity patterns\n",
    "fig, axs = plt.subplots(1,3)\n",
    "fig.set_figwidth(12)\n",
    "\n",
    "\n",
    "axs[0].spy(D * V,   precision=0, marker=None, markersize=1, color=\"orange\", aspect='equal', origin='upper')\n",
    "axs[1].spy(D,       precision=0, marker=None, markersize=1, color=\"orange\", aspect='equal', origin='upper')\n",
    "axs[2].spy(V,       precision=0, marker=None, markersize=1, color=\"orange\", aspect='equal', origin='upper')\n",
    "axs[0].set_title(\"R\", y=-0.2)\n",
    "axs[1].set_title(\"D\", y=-0.2)\n",
    "axs[2].set_title(\"V\", y=-0.2)\n"
   ]
  },
  {
   "attachments": {},
   "cell_type": "markdown",
   "metadata": {},
   "source": [
    "# Print the simplex corresponding to each row and column"
   ]
  },
  {
   "cell_type": "code",
   "execution_count": null,
   "metadata": {},
   "outputs": [],
   "source": [
    "indices         =   factored.indices_boundary_matrix()\n",
    "display(indices)"
   ]
  }
 ],
 "metadata": {
  "kernelspec": {
   "display_name": "oat_oct_23_final_final_test",
   "language": "python",
   "name": "python3"
  },
  "language_info": {
   "codemirror_mode": {
    "name": "ipython",
    "version": 3
   },
   "file_extension": ".py",
   "mimetype": "text/x-python",
   "name": "python",
   "nbconvert_exporter": "python",
   "pygments_lexer": "ipython3",
   "version": "3.11.6"
  }
 },
 "nbformat": 4,
 "nbformat_minor": 2
}
