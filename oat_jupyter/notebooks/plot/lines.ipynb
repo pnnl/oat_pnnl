{
 "cells": [
  {
   "attachments": {},
   "cell_type": "markdown",
   "metadata": {},
   "source": [
    "For developers: check out intro to py03 layout here: \n",
    "\n",
    "https://pypi.org/project/liesym/0.1.2/"
   ]
  },
  {
   "cell_type": "code",
   "execution_count": null,
   "metadata": {},
   "outputs": [],
   "source": [
    "\n",
    "import numpy as np\n",
    "import plotly.graph_objects as go\n",
    "\n",
    "i = [7, 0, 0, 0, 4, 4, 6, 6, 4, 0, 3, 2]\n",
    "j = [3, 4, 1, 2, 5, 6, 5, 2, 0, 1, 6, 3]\n",
    "k = [0, 7, 2, 3, 6, 7, 1, 1, 5, 5, 7, 6]\n",
    "\n",
    "triangles = np.vstack((i,j,k)).T\n",
    "print(\"triangles: \")\n",
    "print(triangles)\n",
    "\n",
    "x = [0, 0, 1, 1, 0, 0, 1, 1]\n",
    "y = [0, 1, 1, 0, 0, 1, 1, 0]\n",
    "z = [0, 0, 0, 0, 1, 1, 1, 1]\n",
    "vertices = np.vstack((x,y,z)).T\n",
    "tri_points = vertices[triangles]\n",
    "\n",
    "#extract the lists of x, y, z coordinates of the triangle vertices and connect them by a line\n",
    "Xe = []\n",
    "Ye = []\n",
    "Ze = []\n",
    "for T in tri_points:\n",
    "    Xe.extend([T[k%3][0] for k in range(4)]+[ None])\n",
    "    Ye.extend([T[k%3][1] for k in range(4)]+[ None])\n",
    "    Ze.extend([T[k%3][2] for k in range(4)]+[ None])\n",
    "\n",
    "print(\"Xe\")\n",
    "print(Xe)\n",
    "       \n",
    "#define the trace for triangle sides\n",
    "lines = go.Scatter3d(\n",
    "                   x=Xe,\n",
    "                   y=Ye,\n",
    "                   z=Ze,\n",
    "                   mode='lines',\n",
    "                   name='edges',\n",
    "                   line=dict(color= 'rgb(70,70,70)', width=1),\n",
    "                   showlegend=True)  \n",
    "fig = go.Figure(data=[lines])\n",
    "fig.show()"
   ]
  },
  {
   "cell_type": "code",
   "execution_count": null,
   "metadata": {},
   "outputs": [],
   "source": [
    "\n",
    "\n"
   ]
  }
 ],
 "metadata": {
  "kernelspec": {
   "display_name": "oat_oct_23_final_final_test",
   "language": "python",
   "name": "python3"
  },
  "language_info": {
   "codemirror_mode": {
    "name": "ipython",
    "version": 3
   },
   "file_extension": ".py",
   "mimetype": "text/x-python",
   "name": "python",
   "nbconvert_exporter": "python",
   "pygments_lexer": "ipython3",
   "version": "3.11.6"
  }
 },
 "nbformat": 4,
 "nbformat_minor": 2
}
