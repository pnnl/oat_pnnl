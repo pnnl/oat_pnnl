{
 "cells": [
  {
   "attachments": {},
   "cell_type": "markdown",
   "metadata": {},
   "source": [
    "# Homology of a Dowker complex\n",
    "\n",
    "In this example we\n",
    "\n",
    "- compute the homology of a Dowker complex\n",
    "- print summary statistics (betti numbers, dimensions of cycle and boundary spaces)\n",
    "- plot 1d and 2d cycle representatives\n",
    "\n",
    "for two examples: a **circle** represented as the suspension of two points, and a **sphere** represented by the suspension of the circle"
   ]
  },
  {
   "cell_type": "code",
   "execution_count": null,
   "metadata": {},
   "outputs": [],
   "source": [
    "import oat_python as oat\n",
    "\n",
    "import plotly.graph_objects as go\n",
    "import numpy as np"
   ]
  },
  {
   "attachments": {},
   "cell_type": "markdown",
   "metadata": {},
   "source": [
    "# Define a circle\n",
    "\n",
    "As a cycle graph with four edges"
   ]
  },
  {
   "cell_type": "code",
   "execution_count": null,
   "metadata": {},
   "outputs": [],
   "source": [
    "circle                  =   dict( A= [\"i\",\"j\"], B=[\"j\",\"k\"], C=[\"k\",\"l\"], D=[\"i\",\"l\"] )"
   ]
  },
  {
   "attachments": {},
   "cell_type": "markdown",
   "metadata": {},
   "source": [
    "# Reformat the dictionary as a list of sorted-lists of integers"
   ]
  },
  {
   "cell_type": "code",
   "execution_count": null,
   "metadata": {},
   "outputs": [],
   "source": [
    "# relabel\n",
    "listlist, translator    =   oat.hypergraph.relabel( circle )\n",
    "\n",
    "# display the results of relabeling\n",
    "display(\"list of lists format\", listlist)\n",
    "display(\"relabeling dicionary\", translator)\n",
    "\n",
    "# run a simple check to verify that relabeling worked correctly\n",
    "for counter, hyperedge in enumerate(listlist):\n",
    "    [ translator[\"new_node_to_old_node\"][node] for node in hyperedge  ]\n",
    "    circle[ translator[\"new_edge_to_old_edge\"][counter] ]\n",
    "    if not [ translator[\"new_node_to_old_node\"][node] for node in hyperedge  ] == circle[ translator[\"new_edge_to_old_edge\"][counter] ]:\n",
    "        raise ValueError('The relabeled hypergraph should map perfectly onto the initial hypergraph.')"
   ]
  },
  {
   "attachments": {},
   "cell_type": "markdown",
   "metadata": {},
   "source": [
    "# Compute homology\n",
    "\n",
    "By factoring the boundary matrix of the Dowker complex."
   ]
  },
  {
   "cell_type": "code",
   "execution_count": null,
   "metadata": {},
   "outputs": [],
   "source": [
    "factored    =   oat.rust.FactoredBoundaryMatrixDowker( dowker_simplices = listlist, max_homology_dimension =2  )\n",
    "homology    =   factored.homology()\n",
    "\n",
    "print( \"\\n===================================================================================\")\n",
    "print(    \"Cycle representatives that represent a basis for homology in dimensions 0, 1, and 2\")\n",
    "print(    \"===================================================================================\")\n",
    "display( homology )\n",
    "print(  \"\\n===============================\")\n",
    "print(    \"Individual cycle representative\")\n",
    "print(    \"===============================\")\n",
    "homology[\"cycle representative\"][1]"
   ]
  },
  {
   "attachments": {},
   "cell_type": "markdown",
   "metadata": {},
   "source": [
    "# Plot a cycle representative with multidimensional scaling"
   ]
  },
  {
   "cell_type": "code",
   "execution_count": null,
   "metadata": {},
   "outputs": [],
   "source": [
    "#   EXTRACT A LIST OF TRIANGLE WHERE THE CYCLE TAKES NONZERO COEFFICIENTS\n",
    "#   ---------------------------------------------------------------------\n",
    "\n",
    "cycle           =   homology[\"cycle representative\"][1]\n",
    "edges           =   cycle[\"simplex\"].tolist()\n",
    "\n",
    "#   GENERATE MDS COORDINATES FOR EACH VERTEX, BASED ON \"HOP DISTANCE\" WITHIN\n",
    "#   THE GRAPH COMPOSED OF EDGES THAT ARE INCIDENT TO TRIANGLES IN THE CYCLE\n",
    "#   ------------------------------------------------------------------------\n",
    "\n",
    "coo             =   oat.plot.hop_mds_from_simplices( edges, dimension=2 ) # coo stands for \"coordinate oracle\"\n",
    "x               =   [pt[0] for pt in coo.values()]\n",
    "y               =   [pt[1] for pt in coo.values()]\n",
    "\n",
    "#   GENERATE A TRACE FOR THE POINT CLOUD\n",
    "#   ------------------------------------\n",
    "\n",
    "data            =   []\n",
    "trace           =   go.Scatter(\n",
    "                        x=x,y=y,  # x, y, z coordinates\n",
    "                        mode=\"markers+text\", # indicates we want some text to appear next to each marker\n",
    "                        text=[f\"Node \" + old_node for old_node in  translator[\"new_node_to_old_node\"] ], # the text we want to appear next to each point\n",
    "                        textposition=\"top center\", # where we want the text positioned, relative to the marker\n",
    "                        name=\"Nodes\",\n",
    "                    )\n",
    "data.append(trace)\n",
    "\n",
    "#   GENERATE A TRACE FOR EACH TRIANGLE\n",
    "#   ----------------------------------\n",
    "\n",
    "for edge in edges:\n",
    "\n",
    "    # get the name or the original edge\n",
    "    for (p,lis) in enumerate(listlist):\n",
    "        if edge == lis:\n",
    "            edge_name = translator[\"new_edge_to_old_edge\"][p]    \n",
    "\n",
    "    # get the original vertex labels of the edge\n",
    "    edge_vertices = [ translator[\"new_node_to_old_node\"][p] for p in edge ]\n",
    "    \n",
    "    # generate a trace, using the old edge name\n",
    "    trace       =   oat.plot.edge__trace2d(edge=edge, coo=coo)\n",
    "    trace.update(\n",
    "        line=dict( color=\"red\" ), # let's color the edge red \n",
    "        opacity=0.5, # sets the transparency\n",
    "        showlegend=True, # indicate we want this simplex to appear in the legend\n",
    "        name= f\"Simplex {edge_name}\", # label in the legend entry\n",
    "        text=f\"Vertices: {edge_vertices}\", # text we want to appear when hovering the cursor over the simple\n",
    "        )\n",
    "    data.append(trace)\n",
    "\n",
    "#   ADJUST THE PLOT LAYOUT\n",
    "#   ----------------------\n",
    "\n",
    "fig             =   go.Figure(data)\n",
    "fig.update_layout(\n",
    "    title=\"Hover cursor over a simplex to show its list of vertices<br>Click legend entries to toggle on/off\",\n",
    "    width=1000, \n",
    "    height=1000,     \n",
    "    scene = dict(\n",
    "        aspectratio=go.layout.scene.Aspectratio(x=1, y=1, z=1), # controls zoom\n",
    "        xaxis = dict(range=[-1, 1],), # x axis limits\n",
    "        yaxis = dict(range=[-1, 1],), # y axis limits\n",
    "        zaxis = dict(range=[-1, 1],), # z axis limits\n",
    "    ),    \n",
    ")\n",
    "fig.show()"
   ]
  }
 ],
 "metadata": {
  "kernelspec": {
   "display_name": "oat_oct_23_final_final_test",
   "language": "python",
   "name": "python3"
  },
  "language_info": {
   "codemirror_mode": {
    "name": "ipython",
    "version": 3
   },
   "file_extension": ".py",
   "mimetype": "text/x-python",
   "name": "python",
   "nbconvert_exporter": "python",
   "pygments_lexer": "ipython3",
   "version": "3.11.6"
  }
 },
 "nbformat": 4,
 "nbformat_minor": 2
}
