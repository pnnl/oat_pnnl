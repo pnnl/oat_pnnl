{
 "cells": [
  {
   "cell_type": "code",
   "execution_count": null,
   "metadata": {},
   "outputs": [],
   "source": [
    "import oat_python as oat\n",
    "\n",
    "import plotly.graph_objects as go\n",
    "import plotly.express as px\n",
    "import numpy as np\n",
    "import sklearn\n",
    "import sklearn.metrics\n",
    "from sklearn.neighbors import NearestNeighbors\n",
    "import itertools"
   ]
  },
  {
   "attachments": {},
   "cell_type": "markdown",
   "metadata": {},
   "source": [
    "# Homology of a Dowker complex\n",
    "\n",
    "In this example we will\n",
    "- generate a point cloud\n",
    "- generate a collection of subsets (some would call this a *cover*, others would call it a *hypergraph*)\n",
    "- compute the homology of the associated Dowker complex\n",
    "- analyze cycle representatives\n",
    "- plot cycle representatives"
   ]
  },
  {
   "attachments": {},
   "cell_type": "markdown",
   "metadata": {},
   "source": [
    "## Generate a point cloud"
   ]
  },
  {
   "cell_type": "code",
   "execution_count": null,
   "metadata": {},
   "outputs": [],
   "source": [
    "cloud               =   oat.point_cloud.annulus(npoints=60, rad0=1, rad1=2.5, random_seed=0)\n",
    "\n",
    "#   PLOT\n",
    "trace               =   go.Scatter(x=cloud[:,0],y=cloud[:,1], mode=\"markers\")\n",
    "fig                 =   go.Figure([trace])\n",
    "fig.update_layout( title=dict(text=\"Circle with noise\"), width=800, height=800 )\n",
    "fig.show()"
   ]
  },
  {
   "attachments": {},
   "cell_type": "markdown",
   "metadata": {},
   "source": [
    "## Choose a cover"
   ]
  },
  {
   "cell_type": "code",
   "execution_count": null,
   "metadata": {},
   "outputs": [],
   "source": [
    "radius_neighbor =   1.2; # hyperedges will be neighborhoods of vertices, with this radius\n",
    "radius_net      =   1.0; # we'll make epsilon net with this value of epsilon\n",
    "\n",
    "#   COMPUTE AN EPSILON NET\n",
    "net, _          =   oat.dissimilarity.farthest_point_with_cloud(\n",
    "                        cloud   =   cloud,\n",
    "                        epsilon =   radius_net,\n",
    "                    )\n",
    "\n",
    "#   PLOT THE COVER\n",
    "\n",
    "data            =   []\n",
    "data.append( go.Scatter(x=cloud[:,0],y=cloud[:,1], mode=\"markers\", name=\"Cloud\", showlegend=True)                                               )\n",
    "data.append( go.Scatter(x=cloud[net,0],y=cloud[net,1], mode=\"markers\", marker=dict(symbol=\"triangle-up\", size=10), name=\"Net\", showlegend=True) )\n",
    "\n",
    "\n",
    "for counter, v in enumerate(net):\n",
    "    point = cloud[v]\n",
    "    trace = oat.plot.ball_2d( point[0], point[1], radius=radius_neighbor, npoints=100 )\n",
    "    trace.update( opacity=0.2, name=f\"Cover {counter}\" )\n",
    "    data.append(trace)\n",
    "\n",
    "fig = go.Figure(data)\n",
    "fig.update_layout( title=dict(text=\"Hyperedges\"), width=800, height=800 )\n",
    "fig.show()"
   ]
  },
  {
   "attachments": {},
   "cell_type": "markdown",
   "metadata": {},
   "source": [
    "## Compute homology\n",
    "\n",
    "We'll compute the homology of\n",
    "- the dual hypergraph; that is, the hypergraph where vertices are balls, and for each vertex `v` we have a hyperedge that contains every ball to which `v` belongs\n",
    "- equivalently, the witness complex where every point is a witness and net points are landmarks\n",
    "\n",
    "The homology solver only accepts hypergraphs represented by a list of lists of integers, currently.  If your hypergraph has a different format (e.g., if vertices are strings), then you can use some built-in tools to help translate back and forth between this format and list-of-list format; see the [rbs_reduced](rbs_reduced.ipynb) notebook for examples."
   ]
  },
  {
   "cell_type": "code",
   "execution_count": null,
   "metadata": {},
   "outputs": [],
   "source": [
    "#   FORMAT THE COVER AS A FAMILY OF SORTED LISTS\n",
    "\n",
    "# data structure holding the whole cloud\n",
    "net_wrapper         =   NearestNeighbors(n_neighbors=1, algorithm='ball_tree').fit( cloud[net] ) \n",
    "# witness complex where all points are witnesses, and net points are landmarks\n",
    "cover               =   [ sorted(list(x)) for x in net_wrapper.radius_neighbors( cloud, radius=radius_neighbor, return_distance=False, ) ]    \n",
    "\n",
    "#   FACTOR THE BOUNDARY MATRIX\n",
    "\n",
    "factored            =   oat.rust.FactoredBoundaryMatrixDowker( \n",
    "                            dowker_simplices            =   cover, \n",
    "                            max_homology_dimension      =   2\n",
    "                        )\n",
    "\n",
    "#   BETTI STATISTICS\n",
    "\n",
    "print(\"\\n\\nBetti statistics\\n\")\n",
    "display( factored.betti() )\n",
    "\n",
    "#   HOMOLOGY\n",
    "\n",
    "print(\"\\nHomology\\n\")\n",
    "homology    =   factored.homology()\n",
    "display( homology )\n",
    "\n",
    "#   CYCLE REPRESENTATIVE\n",
    "\n",
    "print(\"\\nCycle representative\\n\")\n",
    "display( homology[\"cycle representative\"][1] )\n"
   ]
  },
  {
   "attachments": {},
   "cell_type": "markdown",
   "metadata": {},
   "source": [
    "## Plot a cycle"
   ]
  },
  {
   "cell_type": "code",
   "execution_count": null,
   "metadata": {},
   "outputs": [],
   "source": [
    "#   DATA FOR THE POINT CLOUD\n",
    "\n",
    "data            =   []\n",
    "data.append( go.Scatter(x=cloud[:,0],y=cloud[:,1], mode=\"markers\", name=\"Cloud\", showlegend=True)                                               )\n",
    "data.append( go.Scatter(x=cloud[net,0],y=cloud[net,1], mode=\"markers\", marker=dict(symbol=\"triangle-up\", size=10), name=\"Net\", showlegend=True) )\n",
    "\n",
    "#   DATA FOR THE CYCLE\n",
    "\n",
    "cycle_num           =   3\n",
    "cycle               =   homology[\"cycle representative\"][cycle_num]\n",
    "coo                 =   cloud[net] # coo stands for \"coordinate oracle\"\n",
    "\n",
    "for counter, linear_term in cycle.iterrows():\n",
    "    simplex         =   linear_term[\"simplex\"]\n",
    "    coefficient     =   linear_term[\"coefficient\"]\n",
    "\n",
    "    trace           =   oat.plot.edge__trace2d( edge=simplex, coo=coo )\n",
    "    trace.update( name=f\"Edge {simplex}\", text=f\"simplex {simplex}<br>linear coefficent {coefficient}\", opacity=0.7, ) # customize appearance\n",
    "    data.append(trace) # append to the data group \n",
    "\n",
    "#   PLOT\n",
    "\n",
    "fig = go.Figure( data )\n",
    "fig.update_layout(title=\"Coefficients appear in the hover data\", height=700,width=800 ) \n",
    "fig.show()"
   ]
  },
  {
   "attachments": {},
   "cell_type": "markdown",
   "metadata": {},
   "source": [
    "# Group simplices into a single legend entry\n",
    "\n",
    "Sometimes you don't want a separate legend entry for each simplex.  Here's an example that shows how to group them."
   ]
  },
  {
   "cell_type": "code",
   "execution_count": null,
   "metadata": {},
   "outputs": [],
   "source": [
    "counter = 0\n",
    "for trace in fig.data: # loop over traces in the figure\n",
    "    if \"Edge\" in trace.name: # if the name of the trace contains \"simplex\"\n",
    "        trace.update(legendgroup=\"1\") # tag the group with a label; the same label for all simplex traces\n",
    "        trace.update(name=\"Cycle edges\") # then change the \"name\" to the text we want to appear in the legend\n",
    "        if counter!=0: # otherwise\n",
    "            trace.update(showlegend=False) # remove the trace from the legend; this gaurantees that only one legend entry appears, for all traces\n",
    "        counter +=1\n",
    "\n",
    "fig.update_layout(title=\"Coefficients still apper in the hover data\", height=700,width=800,) \n",
    "fig.show()        \n"
   ]
  },
  {
   "attachments": {},
   "cell_type": "markdown",
   "metadata": {},
   "source": [
    "# Assign the same color to all edges in a given cycle"
   ]
  },
  {
   "cell_type": "code",
   "execution_count": null,
   "metadata": {},
   "outputs": [],
   "source": [
    "#   DATA FOR THE POINT CLOUD\n",
    "\n",
    "data                    =   []\n",
    "data.append( go.Scatter(x=cloud[:,0],y=cloud[:,1], mode=\"markers\", name=\"Cloud\", showlegend=True)                                               )\n",
    "data.append( go.Scatter(x=cloud[net,0],y=cloud[net,1], mode=\"markers+text\", marker=dict(symbol=\"triangle-up\", size=10), name=\"Net\", showlegend=True, text=[str(x) for x in range(len(net))],  textposition='bottom center',  ) )\n",
    "\n",
    "#   DATA FOR THE CYCLE\n",
    "\n",
    "coo                     =   cloud[net] # coo stands for \"coordinate oracle\"\n",
    "colors                  =   px.colors.qualitative.Plotly # specifies a (discrete) sequence of colors, represented by a list of strings\n",
    "\n",
    "for rownum, row in homology.iterrows():\n",
    "    if row[\"dimension\"] != 1: continue\n",
    "    cycle_color         =   colors[ rownum % len(colors) ]\n",
    "\n",
    "    for entrynum, entry in row[\"cycle representative\"].iterrows():\n",
    "        edge            =   entry[\"simplex\"]\n",
    "        coefficient     =   entry[\"coefficient\"]\n",
    "\n",
    "        trace           =   oat.plot.edge__trace2d( edge=edge, coo=coo )\n",
    "        trace.update( name=f\"Cycle {rownum}\", text=f\"simplex {edge}<br>linear coefficent {coefficient}\", opacity=0.7, line=dict(color=cycle_color,)) # customize appearance\n",
    "        trace.update( legendgroup=rownum) # group edges that belong to the same cycle\n",
    "        trace.update( showlegend = entrynum==0 )\n",
    "        data.append(trace) # append to the data group\n",
    "\n",
    "#   PLOT\n",
    "\n",
    "fig = go.Figure( data )\n",
    "fig.update_layout(title=\"Coefficients still appear in the hover data\", height=700,width=800 ) \n",
    "fig.show()"
   ]
  }
 ],
 "metadata": {
  "kernelspec": {
   "display_name": "oat_oct_23_final_final_test",
   "language": "python",
   "name": "python3"
  },
  "language_info": {
   "codemirror_mode": {
    "name": "ipython",
    "version": 3
   },
   "file_extension": ".py",
   "mimetype": "text/x-python",
   "name": "python",
   "nbconvert_exporter": "python",
   "pygments_lexer": "ipython3",
   "version": "3.11.6"
  }
 },
 "nbformat": 4,
 "nbformat_minor": 2
}
