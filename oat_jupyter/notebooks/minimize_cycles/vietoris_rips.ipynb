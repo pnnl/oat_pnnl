{
 "cells": [
  {
   "cell_type": "code",
   "execution_count": null,
   "metadata": {},
   "outputs": [],
   "source": [
    "import oat_python as oat\n",
    "import plotly.graph_objects as go\n",
    "import numpy as np"
   ]
  },
  {
   "cell_type": "code",
   "execution_count": null,
   "metadata": {},
   "outputs": [],
   "source": [
    "#   SET PARAMETER VALUES\n",
    "npoints_per_circle  =   80\n",
    "maxdis              =   None\n",
    "maxdim              =   1\n",
    "\n",
    "#   GENERATE CLOUD FROM RANDOM SEED\n",
    "cloud               =   []\n",
    "for seed in range(3):\n",
    "    circle          =   oat.point_cloud.annulus(npoints=npoints_per_circle, rad0=1, rad1=2.5, random_seed=seed)\n",
    "    circle[:,0]     +=  2 * np.cos( seed * 2 * np.pi / 4)\n",
    "    circle[:,1]     +=  2 * np.sin( seed * 2 * np.pi / 4)    \n",
    "    cloud.append( circle )\n",
    "cloud               =   np.concatenate(cloud)\n",
    "\n",
    "#   PLOT\n",
    "trace               =   go.Scatter(x=cloud[:,0],y=cloud[:,1], mode=\"markers\")\n",
    "fig                 =   go.Figure([trace])\n",
    "fig.update_layout( title=dict(text=\"Three circles, with noise\"), width=800, height=800 )\n",
    "fig.show()"
   ]
  },
  {
   "attachments": {},
   "cell_type": "markdown",
   "metadata": {},
   "source": [
    "# Compute persistent homology"
   ]
  },
  {
   "attachments": {},
   "cell_type": "markdown",
   "metadata": {},
   "source": [
    "We compute persistent homology by factoring the boundary matrix.  The following cell generates a sparse distance matrix and feeds it to the persistent homology solver.  The result is a factored boundary matrix.  We will extract information from this matrix in the following cells."
   ]
  },
  {
   "cell_type": "code",
   "execution_count": null,
   "metadata": {},
   "outputs": [],
   "source": [
    "# the minimum enclosing radius; all homology vanishes above this filtration parameter\n",
    "enclosing               =   oat.dissimilarity.enclosing_from_cloud(cloud)   \n",
    "\n",
    "# distance matrix with values over enclosing + 0.0000000001 removed; adding 0.0000000001 avoids problems due to numerical error\n",
    "dissimilairty_matrix    =   oat.dissimilarity.matrix_from_cloud(            \n",
    "                                cloud                       =   cloud,\n",
    "                                dissimilarity_max           =   enclosing + 0.0000000001,\n",
    "                            )\n",
    "\n",
    "# build and factor the boundary matrix\n",
    "factored                =   oat.rust.FactoredBoundaryMatrixVr( \n",
    "                                dissimilarity_matrix        =   dissimilairty_matrix,\n",
    "                                homology_dimension_max      =   1,\n",
    "                            )"
   ]
  },
  {
   "attachments": {},
   "cell_type": "markdown",
   "metadata": {},
   "source": [
    "Full details on `FactoredBoundaryMatrixVr` can be retreived with Python's `help` function."
   ]
  },
  {
   "cell_type": "code",
   "execution_count": null,
   "metadata": {},
   "outputs": [],
   "source": [
    "help(oat.rust.FactoredBoundaryMatrixVr)"
   ]
  },
  {
   "cell_type": "code",
   "execution_count": null,
   "metadata": {},
   "outputs": [],
   "source": [
    "# the minimum enclosing radius; all homology vanishes above this filtration parameter\n",
    "enclosing               =   oat.dissimilarity.enclosing_from_cloud(cloud)   \n",
    "\n",
    "# distance matrix with values over enclosing + 0.0000000001 removed; adding 0.0000000001 avoids problems due to numerical error\n",
    "dissimilairty_matrix    =   oat.dissimilarity.matrix_from_cloud(            \n",
    "                                cloud               =   cloud,\n",
    "                                dissimilarity_max   =   enclosing + 0.0000000001,\n",
    "                            )\n",
    "\n",
    "# build and factor the boundary matrix\n",
    "factored                =   oat.rust.FactoredBoundaryMatrixVr( \n",
    "                                dissimilarity_matrix        =   dissimilairty_matrix,\n",
    "                                homology_dimension_max      =   1,\n",
    "                            )"
   ]
  },
  {
   "attachments": {},
   "cell_type": "markdown",
   "metadata": {},
   "source": [
    "# Plot the barcode"
   ]
  },
  {
   "cell_type": "code",
   "execution_count": null,
   "metadata": {},
   "outputs": [],
   "source": [
    "homology    =   factored.homology(\n",
    "                    return_cycle_representatives    =   True,\n",
    "                    return_bounding_chains          =   True,\n",
    "                )\n",
    "fig = oat.plot.pd( homology )\n",
    "fig.show()"
   ]
  },
  {
   "attachments": {},
   "cell_type": "markdown",
   "metadata": {},
   "source": [
    "For convenience, export information about the barcode to a data frame."
   ]
  },
  {
   "attachments": {},
   "cell_type": "markdown",
   "metadata": {},
   "source": [
    "# Inspect a cycle representatives and bounding chains"
   ]
  },
  {
   "attachments": {},
   "cell_type": "markdown",
   "metadata": {},
   "source": [
    "The `homology` object is a Pandas data frame containing information about cycles."
   ]
  },
  {
   "cell_type": "code",
   "execution_count": null,
   "metadata": {},
   "outputs": [],
   "source": [
    "display(homology)"
   ]
  },
  {
   "cell_type": "code",
   "execution_count": null,
   "metadata": {},
   "outputs": [],
   "source": [
    "homology[\"cycle representative\"][280]"
   ]
  },
  {
   "cell_type": "code",
   "execution_count": null,
   "metadata": {},
   "outputs": [],
   "source": [
    "homology[\"bounding chain\"][280]"
   ]
  },
  {
   "attachments": {},
   "cell_type": "markdown",
   "metadata": {},
   "source": [
    "# Optimize a cycle"
   ]
  },
  {
   "attachments": {},
   "cell_type": "markdown",
   "metadata": {},
   "source": [
    "Let's optimize the cycle that has birth simplex [9,19]"
   ]
  },
  {
   "cell_type": "code",
   "execution_count": null,
   "metadata": {},
   "outputs": [],
   "source": [
    "# optimize the cycle\n",
    "optimal     =   factored.optimize_cycle(\n",
    "                    birth_simplex                   =   homology[\"birth simplex\"][240], \n",
    "                    problem_type                    =   \"preserve PH basis\",\n",
    "                )\n",
    "\n",
    "# display the data frame that contains the solution\n",
    "display(optimal)\n",
    "\n",
    "# display the data frame for just the optimal cycle (which is contained in the larger data frame)\n",
    "display(optimal[\"chain\"][\"optimal cycle\"])"
   ]
  },
  {
   "attachments": {},
   "cell_type": "markdown",
   "metadata": {},
   "source": [
    "# Plot an optimal cycle\n",
    "\n",
    "<span style=\"color:red\">Try toggling the legend entries to make different parts of the calculation appear / disappear!</span>."
   ]
  },
  {
   "cell_type": "code",
   "execution_count": null,
   "metadata": {},
   "outputs": [],
   "source": [
    "optimal             =   factored.optimize_cycle( homology[\"birth simplex\"][240], problem_type=\"preserve PH basis\")\n",
    "\n",
    "edges_initial = optimal[\"chain\"][\"initial cycle\"][\"simplex\"].tolist();\n",
    "edges_optimal = optimal[\"chain\"][\"optimal cycle\"][\"simplex\"].tolist();\n",
    "triangles = optimal[\"chain\"][\"difference in bounding chains\"][\"simplex\"].tolist()\n",
    "coo = cloud # coo stands for coordinate oracle\n",
    "\n",
    "traces_initial      = [ oat.plot.edge__trace2d( edge, coo  ) for edge in edges_initial ];\n",
    "traces_optimal      = [ oat.plot.edge__trace2d( edge, coo  ) for edge in edges_optimal ];\n",
    "traces_differe      = [ oat.plot.triangle__trace2d( triangle=tri, coo=coo ) for tri in triangles ];\n",
    "trace_cloud         = go.Scatter(x=cloud[:,0], y=cloud[:,1], mode=\"markers\") # the point cloud\n",
    "\n",
    "trace_cloud.update(showlegend=True, opacity=0.5, name=\"Point cloud\")\n",
    "for n, trace in enumerate(traces_initial): trace.update(showlegend=(n==0), legendgroup=\"init\", opacity=0.5, name=\"Initial cycle\", line=dict(color=\"white\",dash=\"dash\"))\n",
    "for n, trace in enumerate(traces_optimal): trace.update(showlegend=(n==0), legendgroup=\"opti\", opacity=0.5, name=\"Optimal cycle\", line=dict(color=\"white\"))\n",
    "for n, trace in enumerate(traces_differe): trace.update(showlegend=(n==0), legendgroup=\"diff\", opacity=0.5, name=\"Bounding difference\", hovertext=\"Simplex \"+str(triangles[n]), fillcolor=\"white\" )\n",
    "\n",
    "fig = go.Figure(data= [trace_cloud] + traces_initial + traces_optimal + traces_differe )\n",
    "fig.update_layout(title=dict(text=\"Optimization of a cycle representative\"))\n",
    "# fig.update_layout(height=800,width=850) \n",
    "\n",
    "fig.update_layout(\n",
    "        title=dict(text=\"Cycle representative and bounding chain\"),\n",
    "        template=\"plotly_dark\",\n",
    "        height=1200,\n",
    "        width=1600,\n",
    "    )\n",
    "\n",
    "fig.show()"
   ]
  },
  {
   "cell_type": "code",
   "execution_count": null,
   "metadata": {},
   "outputs": [],
   "source": [
    "import pandas as pd\n",
    "\n",
    "# Assuming you have a dataframe named 'df' with columns A, B, and C\n",
    "\n",
    "# Filter the dataframe based on the condition A[i] == 1\n",
    "# filtered_df = np.array(list( homology[ homology['dimension'] == 0 ][['birth', 'death']].values ))\n",
    "\n",
    "# Extract the birth/death pairs\n",
    "birth_death_pairs = np.array(list( homology[ homology['dimension'] == 0 ][['birth', 'death']].values ))\n",
    "print(birth_death_pairs)"
   ]
  }
 ],
 "metadata": {
  "kernelspec": {
   "display_name": "oat_oct_23_final_final_test",
   "language": "python",
   "name": "python3"
  },
  "language_info": {
   "codemirror_mode": {
    "name": "ipython",
    "version": 3
   },
   "file_extension": ".py",
   "mimetype": "text/x-python",
   "name": "python",
   "nbconvert_exporter": "python",
   "pygments_lexer": "ipython3",
   "version": "3.11.6"
  }
 },
 "nbformat": 4,
 "nbformat_minor": 2
}
